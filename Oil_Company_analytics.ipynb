{
 "cells": [
  {
   "cell_type": "markdown",
   "metadata": {},
   "source": [
    "Hello Kushal, my name is Artem. I'm going to review your project!\n",
    "\n",
    "You can find my comments in <font color='green'>green</font>, <font color='blue'>blue</font> or <font color='red'>red</font> boxes like this:\n",
    "\n",
    "<div class=\"alert alert-block alert-success\">\n",
    "<b>Success:</b> if everything is done succesfully\n",
    "</div>\n",
    "\n",
    "<div class=\"alert alert-block alert-info\">\n",
    "<b>Improve: </b> \"Improve\" comments mean that there are tiny corrections that could help you to make your project better.\n",
    "</div>\n",
    "\n",
    "<div class=\"alert alert-block alert-danger\">\n",
    "<b>Needs fixing:</b> if the block requires some corrections. Work can't be accepted with the red comments.\n",
    "</div>\n",
    "\n",
    "### <font color='orange'>General feedback</font>\n",
    "* I'm glad to say that you executed your project really well.\n",
    "* Thank you for structuring the project. It's a pleasure to check such notebooks.\n",
    "* Great that you've mastered bootstrap technique.\n",
    "* Risk of losses was calculated correctly. Well done!\n",
    "* There is only one issue. So it would be easy to fix.\n",
    "* There are few things I'd like you to check. They're not mistakes, but your project could be improved if you correct them.\n",
    "* While there's room for improvement, on the whole, your project is looking good.\n",
    "* I believe you can easily fix it! Good luck!"
   ]
  },
  {
   "cell_type": "markdown",
   "metadata": {},
   "source": [
    "### <font color='orange'>General feedback (review 2)</font>\n",
    "* New comment is marked with \"review 2\" keyword."
   ]
  },
  {
   "cell_type": "markdown",
   "metadata": {},
   "source": [
    "### <font color='orange'>General feedback (review 3)</font>\n",
    "* Your corrections look great, you've improved your work significantly!\n",
    "* Your project has been accepted and you can go to the next sprint!\n",
    "* Keep up the good work. Good luck next!"
   ]
  },
  {
   "cell_type": "markdown",
   "metadata": {},
   "source": [
    "# Project Description\n",
    "\n",
    "You work for the OilyGiant mining company. Your task is to find the best place for a new well.\n",
    "Steps to choose the location:\n",
    "- Collect the oil well parameters in the selected region: oil quality and volume of reserves;\n",
    "- Build a model for predicting the volume of reserves in the new wells;\n",
    "- Pick the oil wells with the highest estimated values;\n",
    "- Pick the region with the highest total profit for the selected oil wells.\n",
    "\n",
    "You have data on oil samples from three regions. Parameters of each oil well in the region are already known. Build a model that will help to pick the region with the highest profit margin. Analyze potential profit and risks using the Bootstrapping technique."
   ]
  },
  {
   "cell_type": "code",
   "execution_count": 1,
   "metadata": {},
   "outputs": [],
   "source": [
    "#Adding this first up to make sure we don't need to see warnings to make outputs look nice\n",
    "import sys\n",
    "import warnings\n",
    "if not sys.warnoptions:\n",
    "       warnings.simplefilter(\"ignore\")"
   ]
  },
  {
   "cell_type": "code",
   "execution_count": 2,
   "metadata": {},
   "outputs": [],
   "source": [
    "#Let us first import the relevant libraries\n",
    "import pandas as pd\n",
    "from sklearn.model_selection import train_test_split\n",
    "from sklearn.ensemble import RandomForestRegressor\n",
    "from sklearn.metrics import r2_score\n",
    "from joblib import dump\n",
    "from sklearn.metrics import mean_absolute_error\n",
    "from sklearn.linear_model import LinearRegression\n",
    "from sklearn.preprocessing import StandardScaler\n",
    "from sklearn.linear_model import LogisticRegression\n",
    "from sklearn.metrics import f1_score\n",
    "from sklearn.metrics import accuracy_score\n",
    "from sklearn.metrics import recall_score\n",
    "from sklearn.metrics import precision_score\n",
    "from sklearn.utils import resample\n",
    "from sklearn.metrics import roc_auc_score\n",
    "from sklearn.metrics import make_scorer\n",
    "from sklearn.utils import shuffle\n",
    "from sklearn.tree import DecisionTreeClassifier\n",
    "from sklearn.ensemble import RandomForestClassifier\n",
    "from sklearn.model_selection import GridSearchCV\n",
    "from sklearn.metrics import roc_curve\n",
    "import matplotlib.pyplot as plt\n",
    "from sklearn.metrics import precision_recall_curve\n",
    "import numpy as np\n",
    "from sklearn.metrics import mean_squared_error\n",
    "from scipy import stats as st"
   ]
  },
  {
   "cell_type": "markdown",
   "metadata": {},
   "source": [
    "<div class=\"alert alert-block alert-success\">\n",
    "<b>Success:</b> Thank you for collecting all imports at the top of the notebook!\n",
    "</div>"
   ]
  },
  {
   "cell_type": "code",
   "execution_count": 3,
   "metadata": {},
   "outputs": [],
   "source": [
    "#Now, let us load the data\n",
    "df0 = pd.read_csv('https://code.s3.yandex.net/datasets/geo_data_0.csv')\n",
    "\n",
    "df1 = pd.read_csv('https://code.s3.yandex.net/datasets/geo_data_1.csv')\n",
    "\n",
    "df2 = pd.read_csv('https://code.s3.yandex.net/datasets/geo_data_2.csv')\n"
   ]
  },
  {
   "cell_type": "code",
   "execution_count": 4,
   "metadata": {},
   "outputs": [],
   "source": [
    "#All helper functions are created in this code chunk to keep the rest of the report neat\n",
    "\n",
    "#This function gives us a premilinary glimpse into the data\n",
    "def inspect_data(df):\n",
    "    print(df.head())\n",
    "    print(df.isna().sum())\n",
    "    print(df.info())\n",
    "    print(df.describe())\n",
    "\n",
    "#This function divides the data into a training and testing set for features and target, in a ratio of 75:25 and outputs the length of the resulting dataset\n",
    "def split_data(df):\n",
    "    features = df.drop(columns=['product', 'id'])\n",
    "    target =  df[\"product\"]\n",
    "    features_train, features_test, target_train, target_test = train_test_split(features, target, test_size=0.25, random_state=12345)\n",
    "    print('Outputting the lengths of the split datasets:')\n",
    "    print(len(features_train))\n",
    "    print(len(target_train))\n",
    "    print(len(features_test))\n",
    "    print(len(target_test))\n",
    "    return features_train, features_test, target_train, target_test\n",
    "\n",
    "#This function takes the testing and training data of the features and target, normalizes the data, and then\n",
    "#fits it to a linear regression model. It then outputs the R2, RMSE and mean predicted scores.\n",
    "def lin_reg(features_train, features_test, target_train, target_test):\n",
    "    to_normalize = ['f0','f1','f2']\n",
    "    scaler = StandardScaler()\n",
    "    scaler.fit(features_train[to_normalize])\n",
    "    features_train.loc[:,to_normalize] = scaler.transform(features_train[to_normalize])\n",
    "    features_test.loc[:,to_normalize] = scaler.transform(features_test[to_normalize])\n",
    "    lr = LinearRegression().fit(features_train,target_train)\n",
    "    predicted_values = lr.predict(features_test)\n",
    "    print('R2', lr.score(features_test, target_test))\n",
    "    print('RMSE:', np.sqrt(mean_squared_error(target_test, predicted_values)))\n",
    "    print('Average Volume of Predicted Reserve:',predicted_values.mean() )\n",
    "    return predicted_values\n",
    "\n",
    "#This function calculates the profit generated based on the volume of oil in a particular region.\n",
    "\n",
    "def profit(target, probabilities):\n",
    "    target = pd.Series(target).reset_index(drop=True)\n",
    "    probabilities = pd.Series(probabilities)\n",
    "    probs_sorted = probabilities.sort_values(ascending=False)\n",
    "    selected = target[probs_sorted.index][:n_best]\n",
    "    return (selected.sum()* (price*unit)) - bud\n",
    "\n",
    "#This function takes in the same argruments as the profit calculate function in additon to the number of outputs needed.\n",
    "#The output is the wells with the highest predictions.\n",
    "def highest_wells(target, probabilities,number):\n",
    "    target = pd.Series(target).reset_index(drop=True)\n",
    "    probabilities = pd.Series(probabilities)\n",
    "    probs_sorted = probabilities.sort_values(ascending=False)\n",
    "    selected = target[probs_sorted.index][:n_best]\n",
    "    return selected.head(number)\n",
    "    \n",
    "#This function uses bootstrapping to generate a vector of how much profit can be generated based on smaller random subsets.\n",
    "#It returns a vector of the profits of each sample\n",
    "def bs_profit(target, probabilities):\n",
    "    profits = []\n",
    "    target = pd.Series(target).reset_index(drop=True)\n",
    "    state = np.random.RandomState(12345)\n",
    "    for i in range(1000):\n",
    "        target_subsample = target.sample(n=n, replace=True, random_state = state)\n",
    "        probs_subsample = probabilities[target_subsample.index]\n",
    "        profits.append(profit(target_subsample, probs_subsample))\n",
    "\n",
    "    profits = pd.Series(profits)\n",
    "    print('Wells that make a profit:',profits.gt(0).sum())\n",
    "    print('Proportion of wells that make a profit:', profits.gt(0).sum()/len(profits))\n",
    "    \n",
    "    profits.hist()\n",
    "    plt.suptitle('Histogram of how many bootstrap samples make a profit', x=0.5, y=1.05, ha='center', fontsize='xx-large')\n",
    "\n",
    "    return profits\n",
    "\n",
    "#This function takes the output of the bs_profits function and outputs a confidence interval, the average profit and \n",
    "#the risk of loss for a particular region.\n",
    "def conf_int(profits):\n",
    "    ci = st.t.interval(0.95, len(profits)-1, profits.mean(), profits.sem())\n",
    "    risk = len(profits[profits < 0]) / len(profits)\n",
    "    print('The average profit for this region is: ',profits.mean())\n",
    "    print('The 95% confidence interval is:', ci[0], ',' ,ci[1] )\n",
    "    print('The risk of losses is', risk)\n",
    "    \n",
    "def bs_conf_int(profits):\n",
    "\n",
    "    \n",
    "    lower = profits.quantile(0.025)\n",
    "    upper = profits.quantile(0.975)\n",
    "    print('Confidence interval from the quantile method:', lower, ',',upper)\n"
   ]
  },
  {
   "cell_type": "markdown",
   "metadata": {},
   "source": [
    "<div class=\"alert alert-block alert-danger\">\n",
    "<b>Needs fixing (review 2):</b> Confidence interval should be calculateed like this: we have \"distribution\" already in profits array. We just need to get .025 and .975 quantiles of it.\n",
    "</div>"
   ]
  },
  {
   "cell_type": "markdown",
   "metadata": {},
   "source": [
    "<div class=\"alert alert-block alert-danger\">\n",
    "<b>Needs fixing:</b> To calculate the confidence interval, you should use the quantile method, since we implement the bootstrap technique.\n",
    "</div>\n",
    "\n",
    "<div class=\"alert alert-block alert-info\">\n",
    "\n",
    "<b>Improve: </b> You could calculate risk a bit simpler, like this: `(profits < 0).mean()`.\n",
    "</div>"
   ]
  },
  {
   "cell_type": "markdown",
   "metadata": {},
   "source": [
    "## Download and prepare the data. Explain the procedure."
   ]
  },
  {
   "cell_type": "code",
   "execution_count": 5,
   "metadata": {},
   "outputs": [
    {
     "name": "stdout",
     "output_type": "stream",
     "text": [
      "      id        f0        f1        f2     product\n",
      "0  txEyH  0.705745 -0.497823  1.221170  105.280062\n",
      "1  2acmU  1.334711 -0.340164  4.365080   73.037750\n",
      "2  409Wp  1.022732  0.151990  1.419926   85.265647\n",
      "3  iJLyR -0.032172  0.139033  2.978566  168.620776\n",
      "4  Xdl7t  1.988431  0.155413  4.751769  154.036647\n",
      "id         0\n",
      "f0         0\n",
      "f1         0\n",
      "f2         0\n",
      "product    0\n",
      "dtype: int64\n",
      "<class 'pandas.core.frame.DataFrame'>\n",
      "RangeIndex: 100000 entries, 0 to 99999\n",
      "Data columns (total 5 columns):\n",
      "id         100000 non-null object\n",
      "f0         100000 non-null float64\n",
      "f1         100000 non-null float64\n",
      "f2         100000 non-null float64\n",
      "product    100000 non-null float64\n",
      "dtypes: float64(4), object(1)\n",
      "memory usage: 3.8+ MB\n",
      "None\n",
      "                  f0             f1             f2        product\n",
      "count  100000.000000  100000.000000  100000.000000  100000.000000\n",
      "mean        0.500419       0.250143       2.502647      92.500000\n",
      "std         0.871832       0.504433       3.248248      44.288691\n",
      "min        -1.408605      -0.848218     -12.088328       0.000000\n",
      "25%        -0.072580      -0.200881       0.287748      56.497507\n",
      "50%         0.502360       0.250252       2.515969      91.849972\n",
      "75%         1.073581       0.700646       4.715088     128.564089\n",
      "max         2.362331       1.343769      16.003790     185.364347\n"
     ]
    }
   ],
   "source": [
    "inspect_data(df0)"
   ]
  },
  {
   "cell_type": "code",
   "execution_count": 9,
   "metadata": {},
   "outputs": [
    {
     "name": "stdout",
     "output_type": "stream",
     "text": [
      "      id         f0         f1        f2     product\n",
      "0  kBEdx -15.001348  -8.276000 -0.005876    3.179103\n",
      "1  62mP7  14.272088  -3.475083  0.999183   26.953261\n",
      "2  vyE1P   6.263187  -5.948386  5.001160  134.766305\n",
      "3  KcrkZ -13.081196 -11.506057  4.999415  137.945408\n",
      "4  AHL4O  12.702195  -8.147433  5.004363  134.766305\n",
      "id         0\n",
      "f0         0\n",
      "f1         0\n",
      "f2         0\n",
      "product    0\n",
      "dtype: int64\n",
      "<class 'pandas.core.frame.DataFrame'>\n",
      "RangeIndex: 100000 entries, 0 to 99999\n",
      "Data columns (total 5 columns):\n",
      "id         100000 non-null object\n",
      "f0         100000 non-null float64\n",
      "f1         100000 non-null float64\n",
      "f2         100000 non-null float64\n",
      "product    100000 non-null float64\n",
      "dtypes: float64(4), object(1)\n",
      "memory usage: 3.8+ MB\n",
      "None\n",
      "                  f0             f1             f2        product\n",
      "count  100000.000000  100000.000000  100000.000000  100000.000000\n",
      "mean        1.141296      -4.796579       2.494541      68.825000\n",
      "std         8.965932       5.119872       1.703572      45.944423\n",
      "min       -31.609576     -26.358598      -0.018144       0.000000\n",
      "25%        -6.298551      -8.267985       1.000021      26.953261\n",
      "50%         1.153055      -4.813172       2.011479      57.085625\n",
      "75%         8.621015      -1.332816       3.999904     107.813044\n",
      "max        29.421755      18.734063       5.019721     137.945408\n"
     ]
    }
   ],
   "source": [
    "inspect_data(df1)"
   ]
  },
  {
   "cell_type": "code",
   "execution_count": 10,
   "metadata": {},
   "outputs": [
    {
     "name": "stdout",
     "output_type": "stream",
     "text": [
      "      id        f0        f1        f2     product\n",
      "0  fwXo0 -1.146987  0.963328 -0.828965   27.758673\n",
      "1  WJtFt  0.262778  0.269839 -2.530187   56.069697\n",
      "2  ovLUW  0.194587  0.289035 -5.586433   62.871910\n",
      "3  q6cA6  2.236060 -0.553760  0.930038  114.572842\n",
      "4  WPMUX -0.515993  1.716266  5.899011  149.600746\n",
      "id         0\n",
      "f0         0\n",
      "f1         0\n",
      "f2         0\n",
      "product    0\n",
      "dtype: int64\n",
      "<class 'pandas.core.frame.DataFrame'>\n",
      "RangeIndex: 100000 entries, 0 to 99999\n",
      "Data columns (total 5 columns):\n",
      "id         100000 non-null object\n",
      "f0         100000 non-null float64\n",
      "f1         100000 non-null float64\n",
      "f2         100000 non-null float64\n",
      "product    100000 non-null float64\n",
      "dtypes: float64(4), object(1)\n",
      "memory usage: 3.8+ MB\n",
      "None\n",
      "                  f0             f1             f2        product\n",
      "count  100000.000000  100000.000000  100000.000000  100000.000000\n",
      "mean        0.002023      -0.002081       2.495128      95.000000\n",
      "std         1.732045       1.730417       3.473445      44.749921\n",
      "min        -8.760004      -7.084020     -11.970335       0.000000\n",
      "25%        -1.162288      -1.174820       0.130359      59.450441\n",
      "50%         0.009424      -0.009482       2.484236      94.925613\n",
      "75%         1.158535       1.163678       4.858794     130.595027\n",
      "max         7.238262       7.844801      16.739402     190.029838\n"
     ]
    }
   ],
   "source": [
    "inspect_data(df2)"
   ]
  },
  {
   "cell_type": "markdown",
   "metadata": {},
   "source": [
    "<div class=\"alert alert-block alert-success\">\n",
    "<b>Success:</b> Data loading and initial analysis were done well.\n",
    "</div>"
   ]
  },
  {
   "cell_type": "markdown",
   "metadata": {},
   "source": [
    "All the data is already in good shape to take it straight to modelling. There are no null values, the data types of the columns are good and the outliers/means etc. are also reasonable.\n",
    "\n",
    "## Train and test the model for each region\n",
    "\n",
    "### Split the data into a training set and validation set at a ratio of 75:25."
   ]
  },
  {
   "cell_type": "code",
   "execution_count": 11,
   "metadata": {},
   "outputs": [
    {
     "name": "stdout",
     "output_type": "stream",
     "text": [
      "Outputting the lengths of the split datasets:\n",
      "75000\n",
      "75000\n",
      "25000\n",
      "25000\n"
     ]
    }
   ],
   "source": [
    "features_train0, features_test0, target_train0, target_test0 = split_data(df0)"
   ]
  },
  {
   "cell_type": "code",
   "execution_count": 12,
   "metadata": {},
   "outputs": [
    {
     "name": "stdout",
     "output_type": "stream",
     "text": [
      "Outputting the lengths of the split datasets:\n",
      "75000\n",
      "75000\n",
      "25000\n",
      "25000\n"
     ]
    }
   ],
   "source": [
    "features_train1,  features_test1, target_train1, target_test1 = split_data(df1)"
   ]
  },
  {
   "cell_type": "code",
   "execution_count": 13,
   "metadata": {},
   "outputs": [
    {
     "name": "stdout",
     "output_type": "stream",
     "text": [
      "Outputting the lengths of the split datasets:\n",
      "75000\n",
      "75000\n",
      "25000\n",
      "25000\n"
     ]
    }
   ],
   "source": [
    "features_train2,  features_test2, target_train2,  target_test2 = split_data(df2)"
   ]
  },
  {
   "cell_type": "markdown",
   "metadata": {},
   "source": [
    "### Train the model and make predictions for the validation set\n",
    "### Save the predictions and correct answers for the validation set.\n",
    "### Print the average volume of predicted reserves and model RMSE."
   ]
  },
  {
   "cell_type": "code",
   "execution_count": 14,
   "metadata": {},
   "outputs": [
    {
     "name": "stdout",
     "output_type": "stream",
     "text": [
      "R2 0.27994321524487786\n",
      "RMSE: 37.5794217150813\n",
      "Average Volume of Predicted Reserve: 92.59256778438038\n"
     ]
    }
   ],
   "source": [
    "predicted_values0 = lin_reg(features_train0, features_test0, target_train0, target_test0)"
   ]
  },
  {
   "cell_type": "code",
   "execution_count": 15,
   "metadata": {},
   "outputs": [
    {
     "name": "stdout",
     "output_type": "stream",
     "text": [
      "R2 0.9996233978805126\n",
      "RMSE: 0.8930992867756158\n",
      "Average Volume of Predicted Reserve: 68.728546895446\n"
     ]
    }
   ],
   "source": [
    "predicted_values1 = lin_reg(features_train1, features_test1, target_train1, target_test1)"
   ]
  },
  {
   "cell_type": "code",
   "execution_count": 16,
   "metadata": {},
   "outputs": [
    {
     "name": "stdout",
     "output_type": "stream",
     "text": [
      "R2 0.20524758386040443\n",
      "RMSE: 40.02970873393434\n",
      "Average Volume of Predicted Reserve: 94.96504596800489\n"
     ]
    }
   ],
   "source": [
    "predicted_values2 = lin_reg(features_train2, features_test2, target_train2, target_test2)"
   ]
  },
  {
   "cell_type": "markdown",
   "metadata": {},
   "source": [
    "All the required steps are done by the function above.\n",
    "\n",
    "### Analyze the results."
   ]
  },
  {
   "cell_type": "markdown",
   "metadata": {},
   "source": [
    "The coefficient of determination or the R2 metric (R-squared) divides the Model MSE by the Mean MSE and then subtracts the obtained value from one. If the metric increases, the model’s quality also improves. The first and the third regions have a slightly low R-squared metric, with 0.28 and 0.21 respectively. \n",
    "\n",
    "Similarly, the RMSE is related to the R2 so the results reflect that.\n",
    "\n",
    "The average value of predicted reserves for the first region is 92.59, for the second region it's 68.73 and for the third region it's 94.96. This means that the first and third regions should be preferred, with the caveat that the models also make more erros for those regions."
   ]
  },
  {
   "cell_type": "markdown",
   "metadata": {},
   "source": [
    "<div class=\"alert alert-block alert-success\">\n",
    "<b>Success:</b> Data splitting and models training was done in the right way. Glad to see that you've used functions instead of code duplication.\n",
    "</div>"
   ]
  },
  {
   "cell_type": "markdown",
   "metadata": {},
   "source": [
    "## Prepare for profit calculation\n",
    "### Store all key values for calculations in separate variables.\n",
    "So far, any key values and variables have been suitably saved.\n",
    "###  Calculate the volume of reserves sufficient for developing a new well without losses. Compare the obtained value with the average volume of reserves in each region.\n",
    "\n",
    "We have been given the following conditions: \n",
    "\n",
    "- Only linear regression is suitable for model training (the rest are not sufficiently predictable).\n",
    "- When exploring the region, a study of 500 points is carried with picking the best 200 points for the profit calculation.\n",
    "- The budget for development of 200 oil wells is 100 USD million.\n",
    "- One barrel of raw materials brings 4.5 USD of revenue The revenue from one unit of product is 4,500 dollars (volume of reserves is in thousand barrels).\n",
    "- After the risk evaluation, keep only the regions with the risk of losses lower than 2.5%. From the ones that fit the criteria, the region with the highest average profit should be selected."
   ]
  },
  {
   "cell_type": "code",
   "execution_count": 17,
   "metadata": {},
   "outputs": [
    {
     "name": "stdout",
     "output_type": "stream",
     "text": [
      "The volume of reserves sufficient for developing a new well without losses is: 111.11111111111111\n"
     ]
    }
   ],
   "source": [
    "n = 500\n",
    "n_best = 200\n",
    "n_wells = 200\n",
    "bud = 100000000\n",
    "price = 4.5\n",
    "unit = 1000\n",
    "risk = 0.025\n",
    "print('The volume of reserves sufficient for developing a new well without losses is:', bud/n_best/(price*unit))"
   ]
  },
  {
   "cell_type": "markdown",
   "metadata": {},
   "source": [
    "<div class=\"alert alert-block alert-info\">\n",
    "<b>Improve: </b> Please use only uppercase letters in constant variable names. It's a sort of agreement between programmers.\n",
    "</div>"
   ]
  },
  {
   "cell_type": "markdown",
   "metadata": {},
   "source": [
    "\n",
    "### Provide the findings about the preparation for profit calculation step.\n",
    "Since this calculation is only based on a worst case scenario, this gives us an estimate of a safe investment. We have two regions that are pretty close to this value, so this is good news. "
   ]
  },
  {
   "cell_type": "markdown",
   "metadata": {},
   "source": [
    "## Write a function to calculate profit from a set of selected oil wells and model predictions:\n",
    "\n",
    "\n",
    "\n"
   ]
  },
  {
   "cell_type": "code",
   "execution_count": 18,
   "metadata": {},
   "outputs": [
    {
     "data": {
      "text/plain": [
       "33208260.431398526"
      ]
     },
     "execution_count": 18,
     "metadata": {},
     "output_type": "execute_result"
    }
   ],
   "source": [
    "#Profit for region 1:\n",
    "profit(target_test0, predicted_values0)\n"
   ]
  },
  {
   "cell_type": "code",
   "execution_count": 19,
   "metadata": {},
   "outputs": [
    {
     "data": {
      "text/plain": [
       "24150866.966815114"
      ]
     },
     "execution_count": 19,
     "metadata": {},
     "output_type": "execute_result"
    }
   ],
   "source": [
    "#Profit for region 2:\n",
    "profit(target_test1, predicted_values1)"
   ]
  },
  {
   "cell_type": "code",
   "execution_count": 20,
   "metadata": {},
   "outputs": [
    {
     "data": {
      "text/plain": [
       "27103499.635998324"
      ]
     },
     "execution_count": 20,
     "metadata": {},
     "output_type": "execute_result"
    }
   ],
   "source": [
    "#Profit for region 3:\n",
    "profit(target_test2, predicted_values2)"
   ]
  },
  {
   "cell_type": "markdown",
   "metadata": {},
   "source": [
    "The above function calculates the profit from the best 200 wells based on model predictions. \n",
    "### Pick the wells with the highest values of predictions.\n",
    "\n",
    "\n",
    "\n"
   ]
  },
  {
   "cell_type": "code",
   "execution_count": 21,
   "metadata": {},
   "outputs": [
    {
     "data": {
      "text/plain": [
       "9317     162.810993\n",
       "219      153.639837\n",
       "10015    162.153488\n",
       "11584     96.893581\n",
       "23388    178.879516\n",
       "Name: product, dtype: float64"
      ]
     },
     "execution_count": 21,
     "metadata": {},
     "output_type": "execute_result"
    }
   ],
   "source": [
    "highest_wells(target_test0, predicted_values0, 5)"
   ]
  },
  {
   "cell_type": "code",
   "execution_count": 22,
   "metadata": {},
   "outputs": [
    {
     "data": {
      "text/plain": [
       "20430    137.945408\n",
       "7777     137.945408\n",
       "8755     137.945408\n",
       "1178     137.945408\n",
       "4285     137.945408\n",
       "Name: product, dtype: float64"
      ]
     },
     "execution_count": 22,
     "metadata": {},
     "output_type": "execute_result"
    }
   ],
   "source": [
    "highest_wells(target_test1, predicted_values1, 5)"
   ]
  },
  {
   "cell_type": "code",
   "execution_count": 23,
   "metadata": {},
   "outputs": [
    {
     "data": {
      "text/plain": [
       "22636    175.103291\n",
       "24690    131.627481\n",
       "7811     141.160070\n",
       "1581     159.676082\n",
       "6751     142.135203\n",
       "Name: product, dtype: float64"
      ]
     },
     "execution_count": 23,
     "metadata": {},
     "output_type": "execute_result"
    }
   ],
   "source": [
    "highest_wells(target_test2, predicted_values2, 5)"
   ]
  },
  {
   "cell_type": "markdown",
   "metadata": {},
   "source": [
    "Wells with the highest values for each region are printed above. The similarity of the values in the second region gives us a clue about why the R-squared was so high earlier.\n",
    "\n",
    "\n",
    "###  Provide findings: suggest a region for oil wells' development and justify the choice. Calculate the profit for the obtained volume of reserves.\n",
    "\n",
    "The first region that gives us a predicted profit of USD 33,208,260.43 is the best place to develop. Which is not bad for a USD 100 million investment.\n",
    "\n",
    "## Calculate risks and profit for each region:\n",
    " ### Use the bootstrapping technique with 1000 samples to find the distribution of profit.\n"
   ]
  },
  {
   "cell_type": "code",
   "execution_count": 24,
   "metadata": {},
   "outputs": [
    {
     "name": "stdout",
     "output_type": "stream",
     "text": [
      "Wells that make a profit: 931\n",
      "Proportion of wells that make a profit: 0.931\n"
     ]
    },
    {
     "data": {
      "image/png": "[encoded data removed]",
      "text/plain": [
       "<Figure size 432x288 with 1 Axes>"
      ]
     },
     "metadata": {
      "needs_background": "light"
     },
     "output_type": "display_data"
    }
   ],
   "source": [
    "bs0 = bs_profit(target_test0, predicted_values0)\n"
   ]
  },
  {
   "cell_type": "code",
   "execution_count": 25,
   "metadata": {},
   "outputs": [
    {
     "name": "stdout",
     "output_type": "stream",
     "text": [
      "Wells that make a profit: 985\n",
      "Proportion of wells that make a profit: 0.985\n"
     ]
    },
    {
     "data": {
      "image/png": "[encoded data removed]",
      "text/plain": [
       "<Figure size 432x288 with 1 Axes>"
      ]
     },
     "metadata": {
      "needs_background": "light"
     },
     "output_type": "display_data"
    }
   ],
   "source": [
    "bs1 = bs_profit(target_test1, predicted_values1)\n"
   ]
  },
  {
   "cell_type": "code",
   "execution_count": 26,
   "metadata": {},
   "outputs": [
    {
     "name": "stdout",
     "output_type": "stream",
     "text": [
      "Wells that make a profit: 924\n",
      "Proportion of wells that make a profit: 0.924\n"
     ]
    },
    {
     "data": {
      "image/png": "[encoded data removed]",
      "text/plain": [
       "<Figure size 432x288 with 1 Axes>"
      ]
     },
     "metadata": {
      "needs_background": "light"
     },
     "output_type": "display_data"
    }
   ],
   "source": [
    "bs2 = bs_profit(target_test2, predicted_values2)\n",
    "\n"
   ]
  },
  {
   "cell_type": "markdown",
   "metadata": {},
   "source": [
    "<div class=\"alert alert-block alert-success\">\n",
    "<b>Success:</b> Glad to see the visualization of results here.\n",
    "</div>"
   ]
  },
  {
   "cell_type": "markdown",
   "metadata": {},
   "source": [
    "The histograms above show us that it's highly unlikely for the developers to make a loss. The bootstrapping with 1000 iterations gives us good confidence since the resulting histogram looks like a nice curve that follows a normal distribution.\n",
    "### Find average profit, 95% confidence interval and risk of losses. Loss is negative profit, calculate it as a probability and then express as a percentage.\n",
    "\n",
    "The below function outputs the required. Initially I computed the confidence interval using the scipy library, but then I was told that the quantile method is more appropriate so I output that later.\n"
   ]
  },
  {
   "cell_type": "code",
   "execution_count": 31,
   "metadata": {},
   "outputs": [
    {
     "name": "stdout",
     "output_type": "stream",
     "text": [
      "The average profit for this region is:  3961649.8480237112\n",
      "The 95% confidence interval is: 3796203.1514797253 , 4127096.544567697\n",
      "The risk of losses is 0.069\n",
      "Confidence interval from the quantile method: -1112155.4589049604 , 9097669.415534232\n"
     ]
    }
   ],
   "source": [
    "conf_int(bs0)\n",
    "bs_conf_int(bs0)\n"
   ]
  },
  {
   "cell_type": "code",
   "execution_count": 32,
   "metadata": {},
   "outputs": [
    {
     "name": "stdout",
     "output_type": "stream",
     "text": [
      "The average profit for this region is:  4560451.057866608\n",
      "The 95% confidence interval is: 4431472.486639005 , 4689429.62909421\n",
      "The risk of losses is 0.015\n",
      "Confidence interval from the quantile method: 338205.0939898603 , 8522894.538660347\n"
     ]
    }
   ],
   "source": [
    "conf_int(bs1)\n",
    "bs_conf_int(bs1)\n"
   ]
  },
  {
   "cell_type": "code",
   "execution_count": 33,
   "metadata": {},
   "outputs": [
    {
     "name": "stdout",
     "output_type": "stream",
     "text": [
      "The average profit for this region is:  4044038.6656835675\n",
      "The 95% confidence interval is: 3874457.9747128035 , 4213619.356654331\n",
      "The risk of losses is 0.076\n",
      "Confidence interval from the quantile method: -1633504.1339559837 , 9503595.749237997\n"
     ]
    }
   ],
   "source": [
    "conf_int(bs2)\n",
    "bs_conf_int(bs2)\n"
   ]
  },
  {
   "cell_type": "markdown",
   "metadata": {},
   "source": [
    "<div class=\"alert alert-block alert-success\">\n",
    "<b>Success:</b> Profit and risk of losses were calculated correctly. Good job!\n",
    "</div>"
   ]
  },
  {
   "cell_type": "markdown",
   "metadata": {},
   "source": [
    "### Provide findings: suggest a region for development of oil wells and justify the choice.\n",
    "Surprisingly, the results we arrived at from bootstrapping are different from the one we go just from doing Linear Regression. This may be because the second region has a better R-squared value which means that it can consistently churn out profits while the first region can not.\n",
    "\n",
    "## Conclusions\n",
    "The quality of the models was evaluated and we got satisfactory R-squared metrics for each region's model. We found that the volume of reserves sufficient for developing a new well without losses is: 111.11. \n",
    "\n",
    "Bootstrapping gave us a better insight into the investment the company should make. All the regions have a good profit prediction. The risk of loss is lowest in the second region also, which means we there is a clear winner in the region we should dig 200 wells in."
   ]
  },
  {
   "cell_type": "markdown",
   "metadata": {},
   "source": [
    "<div class=\"alert alert-block alert-success\">\n",
    "<b>Success:</b> I agree with your choice!\n",
    "</div>"
   ]
  },
  {
   "cell_type": "code",
   "execution_count": null,
   "metadata": {},
   "outputs": [],
   "source": []
  }
 ],
 "metadata": {
  "kernelspec": {
   "display_name": "Python 3",
   "language": "python",
   "name": "python3"
  },
  "language_info": {
   "codemirror_mode": {
    "name": "ipython",
    "version": 3
   },
   "file_extension": ".py",
   "mimetype": "text/x-python",
   "name": "python",
   "nbconvert_exporter": "python",
   "pygments_lexer": "ipython3",
   "version": "3.7.6"
  }
 },
 "nbformat": 4,
 "nbformat_minor": 2
}
